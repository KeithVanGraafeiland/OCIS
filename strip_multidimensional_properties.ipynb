{
 "cells": [
  {
   "cell_type": "code",
   "execution_count": 1,
   "metadata": {},
   "outputs": [],
   "source": [
    "## Strip multidimesional raster properties"
   ]
  },
  {
   "cell_type": "code",
   "execution_count": 2,
   "metadata": {},
   "outputs": [],
   "source": [
    "import arcpy\n",
    "import os\n",
    "# raster_directory = r\"E:\\gis_projects\\Ocean and Coastal Information System\\Raster_Subset\\ssp370\\new\"\n",
    "# out_folder = r\"E:\\gis_projects\\Ocean and Coastal Information System\\Raster_Subset\\ssp370\\new\\stripped\""
   ]
  },
  {
   "cell_type": "code",
   "execution_count": 3,
   "metadata": {},
   "outputs": [],
   "source": [
    "def strip_md(raster_directory, out_folder):\n",
    "    if not os.path.exists(out_folder):\n",
    "        os.makedirs(out_folder)\n",
    "    rasters = [os.path.join(raster_directory, f) for f in os.listdir(raster_directory) if f.endswith('.crf')]\n",
    "    for raster in rasters:\n",
    "            with arcpy.EnvManager(compression=\"'LERC' 0.000000\"):\n",
    "                arcpy.management.CopyRaster(\n",
    "                    in_raster=raster,\n",
    "                    out_rasterdataset=os.path.join(out_folder,os.path.basename(raster)),\n",
    "                    config_keyword=\"\",\n",
    "                    background_value=None,\n",
    "                    nodata_value=\"\",\n",
    "                    onebit_to_eightbit=\"NONE\",\n",
    "                    colormap_to_RGB=\"NONE\",\n",
    "                    pixel_type=\"\",\n",
    "                    scale_pixel_value=\"NONE\",\n",
    "                    RGB_to_Colormap=\"NONE\",\n",
    "                    format=\"CRF\",\n",
    "                    transform=\"NONE\",\n",
    "                    process_as_multidimensional=\"CURRENT_SLICE\",\n",
    "                    build_multidimensional_transpose=\"NO_TRANSPOSE\"\n",
    "                )"
   ]
  },
  {
   "cell_type": "code",
   "execution_count": 4,
   "metadata": {},
   "outputs": [],
   "source": [
    "strip_md(r\"E:\\gis_projects\\Ocean and Coastal Information System\\Raster_Subset\\ssp370\\new2\",r\"E:\\gis_projects\\Ocean and Coastal Information System\\Raster_Subset\\ssp370\\new2\\stripped\")"
   ]
  }
 ],
 "metadata": {
  "kernelspec": {
   "display_name": "Python 3",
   "language": "python",
   "name": "python3"
  },
  "language_info": {
   "codemirror_mode": {
    "name": "ipython",
    "version": 3
   },
   "file_extension": ".py",
   "mimetype": "text/x-python",
   "name": "python",
   "nbconvert_exporter": "python",
   "pygments_lexer": "ipython3",
   "version": "3.11.8"
  }
 },
 "nbformat": 4,
 "nbformat_minor": 2
}
