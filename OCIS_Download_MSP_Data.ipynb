{
 "cells": [
  {
   "cell_type": "code",
   "execution_count": 21,
   "metadata": {},
   "outputs": [
    {
     "name": "stdout",
     "output_type": "stream",
     "text": [
      "Errors occurred during download:\n",
      "(18, 'http://cetsound.noaa.gov/Assets/cetsound/data/CetMap_BIA_WGS84.zip', 'HTTPConnectionPool(host=\\'cetsound.noaa.gov\\', port=80): Max retries exceeded with url: /Assets/cetsound/data/CetMap_BIA_WGS84.zip (Caused by NameResolutionError(\"<urllib3.connection.HTTPConnection object at 0x000001BC99D08FD0>: Failed to resolve \\'cetsound.noaa.gov\\' ([Errno 11001] getaddrinfo failed)\"))')\n",
      "(51, 'https://marinecadastre.gov/downloads/data/mc/AudubonImportantBirdArea.zip', '404 Client Error: The specified blob does not exist. for url: https://marinecadastre.gov/downloads/data/mc/AudubonImportantBirdArea.zip')\n",
      "(62, 'https://marinecadastre.gov/downloads/data/mc/DeepSeaCoralObservation.zip', '404 Client Error: The specified blob does not exist. for url: https://marinecadastre.gov/downloads/data/mc/DeepSeaCoralObservation.zip')\n",
      "(63, 'https://marinecadastre.gov/downloads/data/mc/DeepSeaCoralHabitatSuitability.zip', '404 Client Error: The specified blob does not exist. for url: https://marinecadastre.gov/downloads/data/mc/DeepSeaCoralHabitatSuitability.zip')\n",
      "(139, 'https://marinecadastre.gov/downloads/data/mc/ProtectedArea.zip', '404 Client Error: The specified blob does not exist. for url: https://marinecadastre.gov/downloads/data/mc/ProtectedArea.zip')\n",
      "(141, 'https://sanctuaries.noaa.gov/media/gis/mbpr_py.zip', '403 Client Error: Forbidden for url: https://sanctuaries.noaa.gov/media/gis/mbpr_py.zip')\n",
      "(143, 'https://sanctuaries.noaa.gov/library/imast/mnms_py2.zip', '403 Client Error: Forbidden for url: https://sanctuaries.noaa.gov/library/imast/mnms_py2.zip')\n",
      "(154, 'https://marinecadastre.gov/downloads/data/mc/CoastalCriticalHabitat.zip', '404 Client Error: The specified blob does not exist. for url: https://marinecadastre.gov/downloads/data/mc/CoastalCriticalHabitat.zip')\n",
      "(155, 'https://marinecadastre.gov/downloads/data/mc/CoastalBarrierResourceAreas.zip', '404 Client Error: The specified blob does not exist. for url: https://marinecadastre.gov/downloads/data/mc/CoastalBarrierResourceAreas.zip')\n",
      "(28, 'Unavailable for public download', \"Invalid URL 'Unavailable for public download': No scheme supplied. Perhaps you meant https://Unavailable for public download?\")\n",
      "(44, 'https://marinecadastre.gov/downloads/data/mc/HistoricalLighthouse.zip', '404 Client Error: The specified blob does not exist. for url: https://marinecadastre.gov/downloads/data/mc/HistoricalLighthouse.zip')\n",
      "(1, 'https://www.acq.osd.mil/eie/Downloads/DISDI/installations_ranges.zip', \"HTTPSConnectionPool(host='www.acq.osd.mil', port=443): Max retries exceeded with url: /eie/Downloads/DISDI/installations_ranges.zip (Caused by SSLError(SSLCertVerificationError(1, '[SSL: CERTIFICATE_VERIFY_FAILED] certificate verify failed: unable to get local issuer certificate (_ssl.c:1006)')))\")\n",
      "(3, 'https://marinecadastre.gov/downloads/data/mc/FormerlyUsedDefenseSites.zip', '404 Client Error: The specified blob does not exist. for url: https://marinecadastre.gov/downloads/data/mc/FormerlyUsedDefenseSites.zip')\n",
      "(4, 'https://marinecadastre.gov/downloads/data/mc/MilitarySubmarineTransitLane.zip', '404 Client Error: The specified blob does not exist. for url: https://marinecadastre.gov/downloads/data/mc/MilitarySubmarineTransitLane.zip')\n",
      "(5, 'https://marinecadastre.gov/downloads/data/mc/MilitaryShipShockBox.zip', '404 Client Error: The specified blob does not exist. for url: https://marinecadastre.gov/downloads/data/mc/MilitaryShipShockBox.zip')\n",
      "(6, 'https://marinecadastre.gov/downloads/data/mc/MilitaryOperatingAreaBoundary.zip', '404 Client Error: The specified blob does not exist. for url: https://marinecadastre.gov/downloads/data/mc/MilitaryOperatingAreaBoundary.zip')\n",
      "(8, 'https://marinecadastre.gov/downloads/data/mc/MilitaryRegulatedAirspace.zip', '404 Client Error: The specified blob does not exist. for url: https://marinecadastre.gov/downloads/data/mc/MilitaryRegulatedAirspace.zip')\n",
      "(9, 'https://marinecadastre.gov/downloads/data/mc/MilitarySpecialUseAirspace.zip', '404 Client Error: The specified blob does not exist. for url: https://marinecadastre.gov/downloads/data/mc/MilitarySpecialUseAirspace.zip')\n",
      "(11, 'https://marinecadastre.gov/downloads/data/mc/MilitarySurfaceGridArea.zip', '404 Client Error: The specified blob does not exist. for url: https://marinecadastre.gov/downloads/data/mc/MilitarySurfaceGridArea.zip')\n",
      "(12, 'Not available for public download', \"Invalid URL 'Not available for public download': No scheme supplied. Perhaps you meant https://Not available for public download?\")\n",
      "(13, 'Not available for public download', \"Invalid URL 'Not available for public download': No scheme supplied. Perhaps you meant https://Not available for public download?\")\n",
      "(14, 'Not available for public download', \"Invalid URL 'Not available for public download': No scheme supplied. Perhaps you meant https://Not available for public download?\")\n",
      "(6, 'https://ocean.floridamarine.org/efh_coral/zip/MPA_update.zip', '404 Client Error: Not Found for url: https://ocean.floridamarine.org/efh_coral/zip/MPA_update.zip')\n",
      "(74, 'https://marinecadastre.gov/downloads/data/mc/ENOW2015.zip', '404 Client Error: The specified blob does not exist. for url: https://marinecadastre.gov/downloads/data/mc/ENOW2015.zip')\n",
      "(4, 'https://mmis.doi.gov/boemmmis/downloads/layers/ATLSandAliquots_shp.zip', 'HTTPSConnectionPool(host=\\'mmis.doi.gov\\', port=443): Max retries exceeded with url: /boemmmis/downloads/layers/ATLSandAliquots_shp.zip (Caused by NameResolutionError(\"<urllib3.connection.HTTPSConnection object at 0x000001BC9A078D90>: Failed to resolve \\'mmis.doi.gov\\' ([Errno 11001] getaddrinfo failed)\"))')\n",
      "(5, 'https://mmis.doi.gov/boemmmis/downloads/layers/LeaseAreas_shp.zip', 'HTTPSConnectionPool(host=\\'mmis.doi.gov\\', port=443): Max retries exceeded with url: /boemmmis/downloads/layers/LeaseAreas_shp.zip (Caused by NameResolutionError(\"<urllib3.connection.HTTPSConnection object at 0x000001BC99F99810>: Failed to resolve \\'mmis.doi.gov\\' ([Errno 11001] getaddrinfo failed)\"))')\n",
      "(10, 'https://marinecadastre.gov/downloads/data/mc/NavigationChannel.zip', '404 Client Error: The specified blob does not exist. for url: https://marinecadastre.gov/downloads/data/mc/NavigationChannel.zip')\n",
      "(14, 'https://marinecadastre.gov/downloads/data/mc/PilotBoarding.zip', '404 Client Error: The specified blob does not exist. for url: https://marinecadastre.gov/downloads/data/mc/PilotBoarding.zip')\n",
      "(15, 'https://marinecadastre.gov/downloads/data/mc/PilotBoarding.zip', '404 Client Error: The specified blob does not exist. for url: https://marinecadastre.gov/downloads/data/mc/PilotBoarding.zip')\n",
      "(17, 'https://marinecadastre.gov/downloads/data/mc/Pipeline.zip', '404 Client Error: The specified blob does not exist. for url: https://marinecadastre.gov/downloads/data/mc/Pipeline.zip')\n",
      "(20, 'https://marinecadastre.gov/downloads/data/mc/SubmarineCableArea.zip', '404 Client Error: The specified blob does not exist. for url: https://marinecadastre.gov/downloads/data/mc/SubmarineCableArea.zip')\n",
      "(22, 'https://marinecadastre.gov/downloads/data/mc/CoastalEnergyFacility.zip', '404 Client Error: The specified blob does not exist. for url: https://marinecadastre.gov/downloads/data/mc/CoastalEnergyFacility.zip')\n"
     ]
    }
   ],
   "source": [
    "import os\n",
    "import requests\n",
    "from openpyxl import load_workbook\n",
    "\n",
    "MSP_Data_XLS = r'G:\\OneDrive - Esri\\LAW\\Projects\\gis4ocean\\nccos_msp\\MSP-Workshop-Data_NorthCarolina-SouthCarolina-Virginia.xlsx'\n",
    "# Create directory if it doesn't exist\n",
    "output_dir = r'F:\\MSP\\NC_SC_VA'\n",
    "os.makedirs(output_dir, exist_ok=True)\n",
    "\n",
    "errors = []\n",
    "\n",
    "# Load the workbook\n",
    "workbook = load_workbook(MSP_Data_XLS)\n",
    "\n",
    "# Iterate through each sheet in the workbook\n",
    "for sheet_name in workbook.sheetnames:\n",
    "    sheet = workbook[sheet_name]\n",
    "    \n",
    "    # Create a subfolder for each sheet\n",
    "    sheet_dir = os.path.join(output_dir, sheet_name)\n",
    "    os.makedirs(sheet_dir, exist_ok=True)\n",
    "    \n",
    "    # Convert the sheet to a DataFrame\n",
    "    df = pd.DataFrame(sheet.values)\n",
    "    df.columns = df.iloc[0]\n",
    "    df = df[1:]\n",
    "    \n",
    "    # Iterate through the DataFrame and download files\n",
    "    for index, row in df.iterrows():\n",
    "        url = row['Data Source Link']\n",
    "        if pd.notna(url):\n",
    "            try:\n",
    "                response = requests.get(url)\n",
    "                response.raise_for_status()\n",
    "                file_name = os.path.join(sheet_dir, f\"file_{index}.zip\")\n",
    "                with open(file_name, 'wb') as file:\n",
    "                    file.write(response.content)\n",
    "            except Exception as e:\n",
    "                errors.append((index, url, str(e)))\n",
    "\n",
    "# Print errors if any\n",
    "if errors:\n",
    "    print(\"Errors occurred during download:\")\n",
    "    for error in errors:\n",
    "        print(error)"
   ]
  },
  {
   "cell_type": "code",
   "execution_count": 23,
   "metadata": {},
   "outputs": [
    {
     "name": "stdout",
     "output_type": "stream",
     "text": [
      "Error log saved to F:\\MSP\\NC_SC_VA\\error_log.txt\n"
     ]
    },
    {
     "ename": "",
     "evalue": "",
     "output_type": "error",
     "traceback": [
      "\u001b[1;31mThe Kernel crashed while executing code in the current cell or a previous cell. \n",
      "\u001b[1;31mPlease review the code in the cell(s) to identify a possible cause of the failure. \n",
      "\u001b[1;31mClick <a href='https://aka.ms/vscodeJupyterKernelCrash'>here</a> for more info. \n",
      "\u001b[1;31mView Jupyter <a href='command:jupyter.viewOutput'>log</a> for further details."
     ]
    }
   ],
   "source": [
    "error_log_path = os.path.join(output_dir, 'error_log.txt')\n",
    "\n",
    "with open(error_log_path, 'w') as error_log:\n",
    "    if errors:\n",
    "        error_log.write(\"Errors occurred during download:\\n\")\n",
    "        for error in errors:\n",
    "            error_log.write(f\"{error}\\n\")\n",
    "    else:\n",
    "        error_log.write(\"No errors occurred during download.\\n\")\n",
    "\n",
    "print(f\"Error log saved to {error_log_path}\")"
   ]
  }
 ],
 "metadata": {
  "kernelspec": {
   "display_name": "Python 3",
   "language": "python",
   "name": "python3"
  },
  "language_info": {
   "codemirror_mode": {
    "name": "ipython",
    "version": 3
   },
   "file_extension": ".py",
   "mimetype": "text/x-python",
   "name": "python",
   "nbconvert_exporter": "python",
   "pygments_lexer": "ipython3",
   "version": "3.11.10"
  }
 },
 "nbformat": 4,
 "nbformat_minor": 2
}
