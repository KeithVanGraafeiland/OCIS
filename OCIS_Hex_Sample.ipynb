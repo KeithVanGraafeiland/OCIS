{
 "cells": [
  {
   "cell_type": "code",
   "execution_count": 17,
   "metadata": {},
   "outputs": [],
   "source": [
    "import os\n",
    "import arcpy\n",
    "arcpy.env.overwriteOutput = True"
   ]
  },
  {
   "cell_type": "code",
   "execution_count": null,
   "metadata": {},
   "outputs": [],
   "source": [
    "crf_directory = r\"E:\\gis_projects\\Ocean and Coastal Information System\\Raster_Subset\\ssp370\"\n",
    "h3_hex = r'E:\\gis_projects\\Ocean and Coastal Information System\\sde_on_OCIS.sde\\ocis.sde.H6'\n",
    "rasters = [f for f in os.listdir(crf_directory) if f.endswith('.crf') and os.path.isdir(os.path.join(crf_directory, f))]\n",
    "print(rasters)"
   ]
  },
  {
   "cell_type": "code",
   "execution_count": 19,
   "metadata": {},
   "outputs": [],
   "source": [
    "def sample_hehbins(rasters, h3_hex):\n",
    "    root_path = os.path.dirname(h3_hex)\n",
    "    print(root_path)\n",
    "    hex_level = str(os.path.splitext(h3_hex)[-1].split('.')[-1])\n",
    "    print(hex_level)\n",
    "    for raster in rasters:\n",
    "        var_name = raster.replace('_ssp370_2050', '').replace('.crf', '')  \n",
    "        sample_table = os.path.join(root_path, hex_level + '_sample_' + var_name)\n",
    "        print(sample_table)\n",
    "        with arcpy.EnvManager(parallelProcessingFactor=\"90%\"):\n",
    "            print(raster)\n",
    "            crf = os.path.join(crf_directory, raster)\n",
    "            arcpy.sa.Sample(\n",
    "                in_rasters=crf,\n",
    "                in_location_data=h3_hex,\n",
    "                out_table=sample_table,\n",
    "                resampling_type=\"NEAREST\",\n",
    "                unique_id_field=\"objectid\",\n",
    "                process_as_multidimensional=\"CURRENT_SLICE\",\n",
    "                acquisition_definition=None,\n",
    "                statistics_type=\"MEAN\",\n",
    "                percentile_value=None,\n",
    "                buffer_distance=None,\n",
    "                layout=\"ROW_WISE\",\n",
    "                generate_feature_class=\"TABLE\"\n",
    "            )\n",
    "            arcpy.management.JoinField(\n",
    "                in_data=sample_table,\n",
    "                in_field=\"LOCATIONID\",\n",
    "                join_table=h3_hex,\n",
    "                join_field=\"objectid\",\n",
    "                fields=\"grid_id\",\n",
    "                fm_option=\"NOT_USE_FM\",\n",
    "                field_mapping=None,\n",
    "                index_join_fields=\"NO_INDEXES\"\n",
    "            )\n",
    "            arcpy.management.DeleteField(\n",
    "                in_table=sample_table,\n",
    "                drop_field=\"LOCATIONID;X;Y\",\n",
    "                method=\"DELETE_FIELDS\"\n",
    "            )\n",
    "        print(\"Done processing.....\" + raster)\n",
    "        "
   ]
  },
  {
   "cell_type": "code",
   "execution_count": null,
   "metadata": {},
   "outputs": [],
   "source": [
    "sample_hehbins(rasters, h3_hex)"
   ]
  }
 ],
 "metadata": {
  "kernelspec": {
   "display_name": "Python 3",
   "language": "python",
   "name": "python3"
  },
  "language_info": {
   "codemirror_mode": {
    "name": "ipython",
    "version": 3
   },
   "file_extension": ".py",
   "mimetype": "text/x-python",
   "name": "python",
   "nbconvert_exporter": "python",
   "pygments_lexer": "ipython3",
   "version": "3.11.8"
  }
 },
 "nbformat": 4,
 "nbformat_minor": 2
}
