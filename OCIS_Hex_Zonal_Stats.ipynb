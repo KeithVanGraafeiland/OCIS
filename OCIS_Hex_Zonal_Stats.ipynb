{
 "cells": [
  {
   "cell_type": "code",
   "execution_count": 15,
   "metadata": {},
   "outputs": [
    {
     "name": "stdout",
     "output_type": "stream",
     "text": [
      "['ShipDensity_Commercial.crf', 'ShipDensity_Fishing.crf', 'ShipDensity_Global.crf', 'ShipDensity_Leisure.crf', 'ShipDensity_Oil_and_Gas.crf', 'ShipDensity_Passenger.crf']\n"
     ]
    }
   ],
   "source": [
    "import os\n",
    "import arcpy\n",
    "arcpy.env.overwriteOutput = True\n",
    "\n",
    "hex_level = 'hexbin_h3_r0'\n",
    "directory = r\"\\\\KVANGRAAF\\e\\gis_lib\\vessel_traffic\\global\"\n",
    "rasters = [f for f in os.listdir(directory) if f.endswith('.crf') and os.path.isdir(os.path.join(directory, f))]\n",
    "stats = 'SUM'\n",
    "print(rasters)"
   ]
  },
  {
   "cell_type": "code",
   "execution_count": 16,
   "metadata": {},
   "outputs": [],
   "source": [
    "## This function summarizes a non-multidimensional raster using SUM statistics\n",
    "def hexbin_summary(hex_level, rasters, stats):\n",
    "    for raster in rasters:\n",
    "            print(raster)\n",
    "            raster_name = raster.split('.')[0]\n",
    "            print(raster_name)\n",
    "            SDE_Path = r\"D:\\ArcGIS\\Projects\\Ocean and Coastal Information System\\sde_on_OCIS.sde\"\n",
    "            table_name = os.path.join(SDE_Path, raster_name + hex_level)\n",
    "            with arcpy.EnvManager(cellSize=\"MINOF\"):\n",
    "                arcpy.ia.ZonalStatisticsAsTable(\n",
    "                    in_zone_data=os.path.join(SDE_Path , \"ocis.sde.\" + hex_level + \"_wgs84\"),\n",
    "                    zone_field=\"grid_id\",\n",
    "                    in_value_raster=os.path.join(directory, raster),\n",
    "                    out_table=os.path.join(SDE_Path, raster_name + hex_level),\n",
    "                    ignore_nodata=\"DATA\",\n",
    "                    statistics_type=stats,\n",
    "                    process_as_multidimensional=\"CURRENT_SLICE\",\n",
    "                    percentile_values=[90],\n",
    "                    percentile_interpolation_type=\"AUTO_DETECT\",\n",
    "                    circular_calculation=\"ARITHMETIC\",\n",
    "                    circular_wrap_value=360,\n",
    "                    out_join_layer=None\n",
    "                )\n",
    "            arcpy.management.AlterField(\n",
    "            in_table=table_name,\n",
    "            field=stats,\n",
    "            new_field_name=raster_name[:20].lower()+\"_\"+stats.lower(),\n",
    "            new_field_alias=raster_name.lower()+\"_\"+stats.lower(),\n",
    "            field_type=\"\",\n",
    "            field_length=8,\n",
    "            field_is_nullable=\"NULLABLE\",\n",
    "            clear_field_alias=\"DO_NOT_CLEAR\"\n",
    "            )"
   ]
  },
  {
   "cell_type": "code",
   "execution_count": 17,
   "metadata": {},
   "outputs": [
    {
     "name": "stdout",
     "output_type": "stream",
     "text": [
      "ShipDensity_Commercial.crf\n",
      "ShipDensity_Commercial\n",
      "ShipDensity_Fishing.crf\n",
      "ShipDensity_Fishing\n",
      "ShipDensity_Global.crf\n",
      "ShipDensity_Global\n",
      "ShipDensity_Leisure.crf\n",
      "ShipDensity_Leisure\n",
      "ShipDensity_Oil_and_Gas.crf\n",
      "ShipDensity_Oil_and_Gas\n",
      "ShipDensity_Passenger.crf\n",
      "ShipDensity_Passenger\n"
     ]
    }
   ],
   "source": [
    "hexbin_summary(hex_level, rasters, stats)"
   ]
  },
  {
   "cell_type": "code",
   "execution_count": 23,
   "metadata": {},
   "outputs": [
    {
     "name": "stdout",
     "output_type": "stream",
     "text": [
      "ShipDensity_Commercial.crf\n",
      "ShipDensity_Commercial\n",
      "ShipDensity_Fishing.crf\n",
      "ShipDensity_Fishing\n",
      "ShipDensity_Global.crf\n",
      "ShipDensity_Global\n",
      "ShipDensity_Leisure.crf\n",
      "ShipDensity_Leisure\n",
      "ShipDensity_Oil_and_Gas.crf\n",
      "ShipDensity_Oil_and_Gas\n",
      "ShipDensity_Passenger.crf\n",
      "ShipDensity_Passenger\n"
     ]
    }
   ],
   "source": [
    "hex_level = 'hexbin_h3_r6'\n",
    "hexbin_summary(hex_level, rasters, stats)"
   ]
  },
  {
   "cell_type": "code",
   "execution_count": 11,
   "metadata": {},
   "outputs": [
    {
     "name": "stdout",
     "output_type": "stream",
     "text": [
      "ShipDensity_Commercial.crf\n",
      "ShipDensity_Commercial\n",
      "ShipDensity_Fishing.crf\n",
      "ShipDensity_Fishing\n",
      "ShipDensity_Global.crf\n",
      "ShipDensity_Global\n",
      "ShipDensity_Leisure.crf\n",
      "ShipDensity_Leisure\n",
      "ShipDensity_Oil_and_Gas.crf\n",
      "ShipDensity_Oil_and_Gas\n",
      "ShipDensity_Passenger.crf\n",
      "ShipDensity_Passenger\n"
     ]
    }
   ],
   "source": [
    "for raster in md_rasters:\n",
    "    print(raster)\n",
    "    raster_name = raster.split('.')[0]\n",
    "    print(raster_name)\n",
    "    SDE_Path = r\"D:\\ArcGIS\\Projects\\Ocean and Coastal Information System\\sde_on_OCIS.sde\"\n",
    "    table_name = os.path.join(SDE_Path, raster_name + hex_level)\n",
    "    with arcpy.EnvManager(cellSize=\"MINOF\"):\n",
    "        arcpy.ia.ZonalStatisticsAsTable(\n",
    "            in_zone_data=os.path.join(SDE_Path , \"ocis.sde.\" + hex_level + \"_wgs84\"),\n",
    "            zone_field=\"grid_id\",\n",
    "            in_value_raster=os.path.join(directory, raster),\n",
    "            out_table=os.path.join(SDE_Path, raster_name + hex_level),\n",
    "            ignore_nodata=\"DATA\",\n",
    "            statistics_type=\"MIN_MAX_MEAN\",\n",
    "            process_as_multidimensional=\"CURRENT_SLICE\",\n",
    "            percentile_values=[90],\n",
    "            percentile_interpolation_type=\"AUTO_DETECT\",\n",
    "            circular_calculation=\"ARITHMETIC\",\n",
    "            circular_wrap_value=360,\n",
    "            out_join_layer=None\n",
    "        )\n",
    "    arcpy.management.AlterField(\n",
    "    in_table=table_name,\n",
    "    field=\"min\",\n",
    "    new_field_name=raster_name[:20].lower()+\"_min\",\n",
    "    new_field_alias=raster_name.lower()+\"_min\",\n",
    "    field_type=\"\",\n",
    "    field_length=8,\n",
    "    field_is_nullable=\"NULLABLE\",\n",
    "    clear_field_alias=\"DO_NOT_CLEAR\"\n",
    "    )\n",
    "    arcpy.management.AlterField(\n",
    "    in_table=table_name,\n",
    "    field=\"max\",\n",
    "    new_field_name=raster_name[:20].lower()+\"_max\",\n",
    "    new_field_alias=raster_name.lower()+\"_max\",\n",
    "    field_type=\"\",\n",
    "    field_length=8,\n",
    "    field_is_nullable=\"NULLABLE\",\n",
    "    clear_field_alias=\"DO_NOT_CLEAR\"\n",
    "    )\n",
    "    arcpy.management.AlterField(\n",
    "    in_table=table_name,\n",
    "    field=\"mean\",\n",
    "    new_field_name=raster_name[:20].lower()+\"_mean\",\n",
    "    new_field_alias=raster_name.lower()+\"_mean\",\n",
    "    field_type=\"\",\n",
    "    field_length=8,\n",
    "    field_is_nullable=\"NULLABLE\",\n",
    "    clear_field_alias=\"DO_NOT_CLEAR\"\n",
    "    )\n"
   ]
  },
  {
   "cell_type": "code",
   "execution_count": 3,
   "metadata": {},
   "outputs": [
    {
     "name": "stdout",
     "output_type": "stream",
     "text": [
      "['Dissolved_Inorganic_Carbon.crf', 'Dissolved_O2.crf', 'Ocean_Heat_Content_2000m.crf', 'Ocean_Heat_Content_300m.crf', 'Ocean_Heat_Content_700m.crf', 'pH.crf', 'Primary_Production.crf', 'Sea_Ice_Concentration.crf', 'Sea_Surface_Salinity.crf', 'Sea_Surface_Temperature.crf', 'Sea_Water_Bottom_Salinity.crf', 'Sea_Water_Bottom_Temperature.crf', 'Sea_Water_Salinity.crf', 'Sea_Water_Temperature.crf']\n"
     ]
    }
   ],
   "source": [
    "hex_level = 'hexbin_h3_r1'\n",
    "directory = r\"\\\\KVANGRAAF\\e\\gis_lib\\vessel_traffic\\global\"\n",
    "md_rasters = [f for f in os.listdir(directory) if f.endswith('.crf') and os.path.isdir(os.path.join(directory, f))]\n",
    "print(md_rasters)"
   ]
  },
  {
   "cell_type": "code",
   "execution_count": 4,
   "metadata": {},
   "outputs": [
    {
     "name": "stdout",
     "output_type": "stream",
     "text": [
      "Dissolved_Inorganic_Carbon.crf\n",
      "Dissolved_Inorganic_Carbon\n",
      "Dissolved_O2.crf\n",
      "Dissolved_O2\n",
      "Ocean_Heat_Content_2000m.crf\n",
      "Ocean_Heat_Content_2000m\n",
      "Ocean_Heat_Content_300m.crf\n",
      "Ocean_Heat_Content_300m\n",
      "Ocean_Heat_Content_700m.crf\n",
      "Ocean_Heat_Content_700m\n",
      "pH.crf\n",
      "pH\n",
      "Primary_Production.crf\n",
      "Primary_Production\n",
      "Sea_Ice_Concentration.crf\n",
      "Sea_Ice_Concentration\n",
      "Sea_Surface_Salinity.crf\n",
      "Sea_Surface_Salinity\n",
      "Sea_Surface_Temperature.crf\n",
      "Sea_Surface_Temperature\n",
      "Sea_Water_Bottom_Salinity.crf\n",
      "Sea_Water_Bottom_Salinity\n",
      "Sea_Water_Bottom_Temperature.crf\n",
      "Sea_Water_Bottom_Temperature\n",
      "Sea_Water_Salinity.crf\n",
      "Sea_Water_Salinity\n",
      "Sea_Water_Temperature.crf\n",
      "Sea_Water_Temperature\n"
     ]
    }
   ],
   "source": [
    "for raster in md_rasters:\n",
    "    print(raster)\n",
    "    raster_name = raster.split('.')[0]\n",
    "    print(raster_name)\n",
    "    SDE_Path = r\"D:\\ArcGIS\\Projects\\Ocean and Coastal Information System\\sde_on_OCIS.sde\"\n",
    "    table_name = os.path.join(SDE_Path, raster_name + hex_level)\n",
    "    with arcpy.EnvManager(cellSize=\"MINOF\"):\n",
    "        arcpy.ia.ZonalStatisticsAsTable(\n",
    "            in_zone_data=os.path.join(SDE_Path , \"ocis.sde.\" + hex_level + \"_wgs84\"),\n",
    "            zone_field=\"grid_id\",\n",
    "            in_value_raster=os.path.join(directory, raster),\n",
    "            out_table=os.path.join(SDE_Path, raster_name + \"_\" + hex_level),\n",
    "            ignore_nodata=\"DATA\",\n",
    "            statistics_type=\"MIN_MAX_MEAN\",\n",
    "            process_as_multidimensional=\"ALL_SLICES\",\n",
    "            percentile_values=[90],\n",
    "            percentile_interpolation_type=\"AUTO_DETECT\",\n",
    "            circular_calculation=\"ARITHMETIC\",\n",
    "            circular_wrap_value=360,\n",
    "            out_join_layer=None\n",
    "        )\n",
    "    arcpy.management.AlterField(\n",
    "    in_table=table_name,\n",
    "    field=\"min\",\n",
    "    new_field_name=raster_name[:20].lower()+\"_min\",\n",
    "    new_field_alias=raster_name.lower()+\"_min\",\n",
    "    field_type=\"\",\n",
    "    field_length=8,\n",
    "    field_is_nullable=\"NULLABLE\",\n",
    "    clear_field_alias=\"DO_NOT_CLEAR\"\n",
    "    )\n",
    "    arcpy.management.AlterField(\n",
    "    in_table=table_name,\n",
    "    field=\"max\",\n",
    "    new_field_name=raster_name[:20].lower()+\"_max\",\n",
    "    new_field_alias=raster_name.lower()+\"_max\",\n",
    "    field_type=\"\",\n",
    "    field_length=8,\n",
    "    field_is_nullable=\"NULLABLE\",\n",
    "    clear_field_alias=\"DO_NOT_CLEAR\"\n",
    "    )\n",
    "    arcpy.management.AlterField(\n",
    "    in_table=table_name,\n",
    "    field=\"mean\",\n",
    "    new_field_name=raster_name[:20].lower()+\"_mean\",\n",
    "    new_field_alias=raster_name.lower()+\"_mean\",\n",
    "    field_type=\"\",\n",
    "    field_length=8,\n",
    "    field_is_nullable=\"NULLABLE\",\n",
    "    clear_field_alias=\"DO_NOT_CLEAR\"\n",
    "    )"
   ]
  },
  {
   "cell_type": "code",
   "execution_count": null,
   "metadata": {},
   "outputs": [],
   "source": [
    "hex_level = 'hexbin_h3_r2'\n",
    "directory = r\"\\\\KVANGRAAF\\e\\gis_lib\\vessel_traffic\\global\"\n",
    "md_rasters = [f for f in os.listdir(directory) if f.endswith('.crf') and os.path.isdir(os.path.join(directory, f))]\n",
    "print(md_rasters)"
   ]
  },
  {
   "cell_type": "code",
   "execution_count": null,
   "metadata": {},
   "outputs": [],
   "source": [
    "for raster in md_rasters:\n",
    "    print(raster)\n",
    "    raster_name = raster.split('.')[0]\n",
    "    print(raster_name)\n",
    "    SDE_Path = r\"D:\\ArcGIS\\Projects\\Ocean and Coastal Information System\\sde_on_OCIS.sde\"\n",
    "    table_name = os.path.join(SDE_Path, raster_name + hex_level)\n",
    "    with arcpy.EnvManager(cellSize=\"MINOF\"):\n",
    "        arcpy.ia.ZonalStatisticsAsTable(\n",
    "            in_zone_data=os.path.join(SDE_Path , \"ocis.sde.\" + hex_level + \"_wgs84\"),\n",
    "            zone_field=\"grid_id\",\n",
    "            in_value_raster=os.path.join(directory, raster),\n",
    "            out_table=os.path.join(SDE_Path, raster_name + \"_\" + hex_level),\n",
    "            ignore_nodata=\"DATA\",\n",
    "            statistics_type=\"MIN_MAX_MEAN\",\n",
    "            process_as_multidimensional=\"ALL_SLICES\",\n",
    "            percentile_values=[90],\n",
    "            percentile_interpolation_type=\"AUTO_DETECT\",\n",
    "            circular_calculation=\"ARITHMETIC\",\n",
    "            circular_wrap_value=360,\n",
    "            out_join_layer=None\n",
    "        )\n",
    "    arcpy.management.AlterField(\n",
    "    in_table=table_name,\n",
    "    field=\"min\",\n",
    "    new_field_name=raster_name[:20].lower()+\"_min\",\n",
    "    new_field_alias=raster_name.lower()+\"_min\",\n",
    "    field_type=\"\",\n",
    "    field_length=8,\n",
    "    field_is_nullable=\"NULLABLE\",\n",
    "    clear_field_alias=\"DO_NOT_CLEAR\"\n",
    "    )\n",
    "    arcpy.management.AlterField(\n",
    "    in_table=table_name,\n",
    "    field=\"max\",\n",
    "    new_field_name=raster_name[:20].lower()+\"_max\",\n",
    "    new_field_alias=raster_name.lower()+\"_max\",\n",
    "    field_type=\"\",\n",
    "    field_length=8,\n",
    "    field_is_nullable=\"NULLABLE\",\n",
    "    clear_field_alias=\"DO_NOT_CLEAR\"\n",
    "    )\n",
    "    arcpy.management.AlterField(\n",
    "    in_table=table_name,\n",
    "    field=\"mean\",\n",
    "    new_field_name=raster_name[:20].lower()+\"_mean\",\n",
    "    new_field_alias=raster_name.lower()+\"_mean\",\n",
    "    field_type=\"\",\n",
    "    field_length=8,\n",
    "    field_is_nullable=\"NULLABLE\",\n",
    "    clear_field_alias=\"DO_NOT_CLEAR\"\n",
    "    )"
   ]
  }
 ],
 "metadata": {
  "kernelspec": {
   "display_name": "Python 3",
   "language": "python",
   "name": "python3"
  },
  "language_info": {
   "codemirror_mode": {
    "name": "ipython",
    "version": 3
   },
   "file_extension": ".py",
   "mimetype": "text/x-python",
   "name": "python",
   "nbconvert_exporter": "python",
   "pygments_lexer": "ipython3",
   "version": "3.11.8"
  }
 },
 "nbformat": 4,
 "nbformat_minor": 2
}
