{
 "cells": [
  {
   "cell_type": "code",
   "execution_count": null,
   "metadata": {},
   "outputs": [],
   "source": [
    "\n",
    "\n",
    "# Connect to your postgres DB\n",
    "conn = psycopg2.connect(\n",
    "    dbname=\"postgres\",\n",
    "    user=\"sde\",\n",
    "    password=\"gis\",\n",
    "    host=\"localhost\",\n",
    "    port=\"5432\"\n",
    ")\n",
    "\n",
    "# Open a cursor to perform database operations\n",
    "cur = conn.cursor()\n",
    "\n",
    "print(\"Connected to the database successfully!\")"
   ]
  },
  {
   "cell_type": "code",
   "execution_count": 2,
   "metadata": {},
   "outputs": [
    {
     "name": "stdout",
     "output_type": "stream",
     "text": [
      "Connected to the ocis database successfully!\n"
     ]
    }
   ],
   "source": [
    "import psycopg2\n",
    "\n",
    "# Connect to the ocis database\n",
    "conn = psycopg2.connect(\n",
    "    dbname=\"ocis\",\n",
    "    user=\"sde\",\n",
    "    password=\"gis\",\n",
    "    host=\"localhost\",\n",
    "    port=\"5432\"\n",
    ")\n",
    "\n",
    "# Open a new cursor to perform database operations\n",
    "cur = conn.cursor()\n",
    "\n",
    "print(\"Connected to the ocis database successfully!\")"
   ]
  },
  {
   "cell_type": "code",
   "execution_count": 3,
   "metadata": {},
   "outputs": [
    {
     "name": "stdout",
     "output_type": "stream",
     "text": [
      "ssp1_2_6_1985\n",
      "ssp1_2_6_2035\n",
      "ssp1_2_6_2045\n",
      "ssp1_2_6_2055\n",
      "ssp1_2_6_2065\n",
      "ssp1_2_6_2075\n",
      "ssp1_2_6_2085\n",
      "ssp2_4_5_1985\n",
      "ssp2_4_5_2035\n",
      "ssp2_4_5_2045\n",
      "ssp2_4_5_2055\n",
      "ssp2_4_5_2065\n",
      "ssp2_4_5_2075\n",
      "ssp2_4_5_2085\n",
      "ssp3_7_0_1985\n",
      "ssp3_7_0_2035\n",
      "ssp3_7_0_2045\n",
      "ssp3_7_0_2055\n",
      "ssp3_7_0_2065\n",
      "ssp3_7_0_2075\n",
      "ssp3_7_0_2085\n",
      "ssp5_8_5_1985\n",
      "ssp5_8_5_2035\n",
      "ssp5_8_5_2045\n",
      "ssp5_8_5_2055\n",
      "ssp5_8_5_2065\n",
      "ssp5_8_5_2075\n",
      "ssp5_8_5_2085\n"
     ]
    }
   ],
   "source": [
    "# Execute a query to list all tables in the ocis database tht start with 'ssp'\n",
    "cur.execute(\"\"\"\n",
    "    SELECT table_name\n",
    "    FROM information_schema.tables\n",
    "    WHERE table_schema = 'sde' AND table_name LIKE 'ssp%'\n",
    "    ORDER BY table_name;\n",
    "\"\"\")\n",
    "\n",
    "# Fetch all results from the executed query\n",
    "tables = cur.fetchall()\n",
    "\n",
    "# Print the list of tables\n",
    "for table in tables:\n",
    "    print(table[0])"
   ]
  },
  {
   "cell_type": "code",
   "execution_count": 7,
   "metadata": {},
   "outputs": [
    {
     "name": "stdout",
     "output_type": "stream",
     "text": [
      "sde.ssp1_2_6_1985\n",
      "sde.ssp1_2_6_2035\n",
      "sde.ssp1_2_6_2045\n",
      "sde.ssp1_2_6_2055\n",
      "sde.ssp1_2_6_2065\n",
      "sde.ssp1_2_6_2075\n",
      "sde.ssp1_2_6_2085\n",
      "sde.ssp2_4_5_1985\n",
      "sde.ssp2_4_5_2035\n",
      "sde.ssp2_4_5_2045\n",
      "sde.ssp2_4_5_2055\n",
      "sde.ssp2_4_5_2065\n",
      "sde.ssp2_4_5_2075\n",
      "sde.ssp2_4_5_2085\n",
      "sde.ssp3_7_0_1985\n",
      "sde.ssp3_7_0_2035\n",
      "sde.ssp3_7_0_2045\n",
      "sde.ssp3_7_0_2055\n",
      "sde.ssp3_7_0_2065\n",
      "sde.ssp3_7_0_2075\n",
      "sde.ssp3_7_0_2085\n",
      "sde.ssp5_8_5_1985\n",
      "sde.ssp5_8_5_2035\n",
      "sde.ssp5_8_5_2045\n",
      "sde.ssp5_8_5_2055\n",
      "sde.ssp5_8_5_2065\n",
      "sde.ssp5_8_5_2075\n",
      "sde.ssp5_8_5_2085\n"
     ]
    }
   ],
   "source": [
    "# List the full table path for each table in the tables list\n",
    "for table in tables:\n",
    "    table_name = table[0]\n",
    "    full_table_path = f\"sde.{table_name}\"\n",
    "    print(full_table_path)"
   ]
  },
  {
   "cell_type": "code",
   "execution_count": null,
   "metadata": {
    "vscode": {
     "languageId": "ruby"
    }
   },
   "outputs": [],
   "source": [
    "# # Iterate through each table in the tables list\n",
    "# for table in tables:\n",
    "#     old_table_name = table[0]\n",
    "#     new_table_name = old_table_name.replace(\"_01_01_00_00_00\", \"\")\n",
    "    \n",
    "#     # Execute the SQL command to rename the table\n",
    "#     cur.execute(f\"ALTER TABLE sde.{old_table_name} RENAME TO {new_table_name};\")\n",
    "#     print(f\"Renamed table {old_table_name} to {new_table_name}\")\n",
    "\n",
    "# # Commit the changes to the database\n",
    "# conn.commit()"
   ]
  },
  {
   "cell_type": "code",
   "execution_count": 15,
   "metadata": {},
   "outputs": [
    {
     "name": "stdout",
     "output_type": "stream",
     "text": [
      "ssp1_2_6_1985\n"
     ]
    },
    {
     "ename": "InFailedSqlTransaction",
     "evalue": "current transaction is aborted, commands ignored until end of transaction block\n",
     "output_type": "error",
     "traceback": [
      "\u001b[1;31m---------------------------------------------------------------------------\u001b[0m",
      "\u001b[1;31mInFailedSqlTransaction\u001b[0m                    Traceback (most recent call last)",
      "\u001b[1;32mD:\\Temp\\2\\ipykernel_49656\\337680885.py\u001b[0m in \u001b[0;36m<cell line: 0>\u001b[1;34m()\u001b[0m\n\u001b[0;32m      8\u001b[0m     \u001b[1;31m# Rename the \"min\" column to \"min_bottom_temp\"\u001b[0m\u001b[1;33m\u001b[0m\u001b[1;33m\u001b[0m\u001b[0m\n\u001b[0;32m      9\u001b[0m     \u001b[0mmycursor\u001b[0m \u001b[1;33m=\u001b[0m \u001b[0mconn\u001b[0m\u001b[1;33m.\u001b[0m\u001b[0mcursor\u001b[0m\u001b[1;33m(\u001b[0m\u001b[1;33m)\u001b[0m\u001b[1;33m\u001b[0m\u001b[1;33m\u001b[0m\u001b[0m\n\u001b[1;32m---> 10\u001b[1;33m     \u001b[0mmycursor\u001b[0m\u001b[1;33m.\u001b[0m\u001b[0mexecute\u001b[0m\u001b[1;33m(\u001b[0m\u001b[0mquery\u001b[0m\u001b[1;33m,\u001b[0m \u001b[1;33m(\u001b[0m\u001b[0mAsIs\u001b[0m\u001b[1;33m(\u001b[0m\u001b[0mtable_name\u001b[0m\u001b[1;33m)\u001b[0m\u001b[1;33m,\u001b[0m\u001b[1;33m)\u001b[0m\u001b[1;33m)\u001b[0m\u001b[1;33m\u001b[0m\u001b[1;33m\u001b[0m\u001b[0m\n\u001b[0m\u001b[0;32m     11\u001b[0m     \u001b[0mprint\u001b[0m\u001b[1;33m(\u001b[0m\u001b[1;34m\"done\"\u001b[0m\u001b[1;33m)\u001b[0m\u001b[1;33m\u001b[0m\u001b[1;33m\u001b[0m\u001b[0m\n\u001b[0;32m     12\u001b[0m     \u001b[0mmycursor\u001b[0m\u001b[1;33m.\u001b[0m\u001b[0mclose\u001b[0m\u001b[1;33m(\u001b[0m\u001b[1;33m)\u001b[0m\u001b[1;33m\u001b[0m\u001b[1;33m\u001b[0m\u001b[0m\n",
      "\u001b[1;31mInFailedSqlTransaction\u001b[0m: current transaction is aborted, commands ignored until end of transaction block\n"
     ]
    }
   ],
   "source": [
    "from psycopg2.extensions import AsIs\n",
    "# Iterate through each table in the tables list\n",
    "for table in tables:\n",
    "    table_name = table[0]\n",
    "    full_table_path = f\"sde.{table_name}\"\n",
    "    print(table_name)\n",
    "    query = \"ALTER TABLE sde.%s RENAME COLUMN min TO min_bottom_temp\"\n",
    "    # Rename the \"min\" column to \"min_bottom_temp\"\n",
    "    mycursor = conn.cursor()\n",
    "    mycursor.execute(query, (AsIs(table_name),))\n",
    "    print(\"done\")\n",
    "    mycursor.close()\n",
    "    \n",
    "# Close the connection after the loop\n",
    "conn.close()"
   ]
  },
  {
   "cell_type": "code",
   "execution_count": null,
   "metadata": {},
   "outputs": [],
   "source": [
    "# Ensure the database connection is established\n",
    "conn = psycopg2.connect(\n",
    "    dbname=\"your_dbname\",\n",
    "    user=\"your_username\",\n",
    "    password=\"your_password\",\n",
    "    host=\"your_host\",\n",
    "    port=\"your_port\"\n",
    ")\n",
    "\n",
    "# Iterate through each table in the tables list\n",
    "for table in tables:\n",
    "    table_name = table[0]\n",
    "    print(table_name)\n",
    "    query = \"ALTER TABLE sde.%s RENAME COLUMN min TO min_bottom_temp\"\n",
    "    # Rename the \"min\" column to \"min_bottom_temp\"\n",
    "    mycursor = conn.cursor()\n",
    "    mycursor.execute(query, (AsIs(table_name),))\n",
    "    print(\"done\")\n",
    "    mycursor.close()\n",
    "\n",
    "# Close the connection after the loop\n",
    "conn.close()"
   ]
  },
  {
   "cell_type": "code",
   "execution_count": null,
   "metadata": {},
   "outputs": [],
   "source": []
  }
 ],
 "metadata": {
  "kernelspec": {
   "display_name": "Python 3",
   "language": "python",
   "name": "python3"
  },
  "language_info": {
   "codemirror_mode": {
    "name": "ipython",
    "version": 3
   },
   "file_extension": ".py",
   "mimetype": "text/x-python",
   "name": "python",
   "nbconvert_exporter": "python",
   "pygments_lexer": "ipython3",
   "version": "3.11.8"
  }
 },
 "nbformat": 4,
 "nbformat_minor": 2
}
